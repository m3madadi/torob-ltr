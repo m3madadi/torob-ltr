{
 "cells": [
  {
   "cell_type": "code",
   "execution_count": 1,
   "metadata": {},
   "outputs": [],
   "source": [
    "# Reset environment due to memory constraints.\n",
    "%reset -f"
   ]
  },
  {
   "cell_type": "code",
   "execution_count": 2,
   "metadata": {},
   "outputs": [],
   "source": [
    "import os\n",
    "import json\n",
    "import gc\n",
    "import pickle\n",
    "\n",
    "from tqdm import tqdm\n",
    "import numpy as np\n",
    "import pandas as pd\n",
    "from sklearn.feature_extraction.text import TfidfVectorizer\n",
    "import fasttext"
   ]
  },
  {
   "cell_type": "code",
   "execution_count": 3,
   "metadata": {},
   "outputs": [],
   "source": [
    "def read_json_lines(path, n_lines=None):\n",
    "    \"\"\"Creates a generator which reads and returns lines of\n",
    "    a json lines file, one line at a time, each as a dictionary.\n",
    "    \n",
    "    This could be used as a memory-efficient alternative of `pandas.read_json`\n",
    "    for reading a json lines file.\n",
    "    \"\"\"\n",
    "    with open(path, 'r') as f:\n",
    "        for i, line in enumerate(f):\n",
    "            if n_lines == i:\n",
    "                break\n",
    "            yield json.loads(line)"
   ]
  },
  {
   "cell_type": "code",
   "execution_count": 4,
   "metadata": {},
   "outputs": [],
   "source": [
    "output_dir = os.path.join('output_data')\n",
    "\n",
    "aggregated_search_data_path = os.path.join(output_dir, 'aggregated_search_data.jsonl')\n",
    "preprocessed_products_path = os.path.join(output_dir, 'preprocessed_products.jsonl')\n",
    "preprocessed_test_queries_path = os.path.join(output_dir, 'preprocessed_test_queries.jsonl')\n",
    "\n",
    "train_dat_file_path = os.path.join(output_dir, 'train.dat')\n",
    "\n",
    "random_projection_mat_path = os.path.join(output_dir, 'random_projection_mat.npy')\n",
    "product_features_path = os.path.join(output_dir, 'product_features.npy')\n",
    "queries_train_features_path = os.path.join(output_dir, 'queries_train_features.npy')\n",
    "queries_test_features_path = os.path.join(output_dir, 'queries_test_features.npy')\n",
    "products_id_to_idx_path = os.path.join(output_dir, 'products_id_to_idx.pkl')"
   ]
  },
  {
   "cell_type": "code",
   "execution_count": 5,
   "metadata": {},
   "outputs": [],
   "source": [
    "# Number of tokens in the vocabulary of TF-IDF.\n",
    "VOCAB_SIZE = 4096\n",
    "# Embedding dimension used for random projection of TF-IDF vectors.\n",
    "EMBEDDING_DIM = 256\n",
    "# Number of training samples to use (set to None to use all samples).\n",
    "NUM_TRAIN_SAMPLES = 10_000"
   ]
  },
  {
   "cell_type": "code",
   "execution_count": 6,
   "metadata": {},
   "outputs": [],
   "source": [
    "# Load aggregated search data which will be used as training data.\n",
    "aggregated_searches_df = pd.DataFrame(\n",
    "    read_json_lines(aggregated_search_data_path, n_lines=NUM_TRAIN_SAMPLES)\n",
    ")"
   ]
  },
  {
   "cell_type": "code",
   "execution_count": 7,
   "metadata": {},
   "outputs": [],
   "source": [
    "# Load preprocessed product data.\n",
    "products_data_df = pd.DataFrame(read_json_lines(preprocessed_products_path))"
   ]
  },
  {
   "cell_type": "code",
   "execution_count": 8,
   "metadata": {},
   "outputs": [],
   "source": [
    "# Load preprocessed test queries.\n",
    "test_offline_queries_df = pd.DataFrame(read_json_lines(preprocessed_test_queries_path))"
   ]
  },
  {
   "cell_type": "code",
   "execution_count": 9,
   "metadata": {},
   "outputs": [],
   "source": [
    "# Create a mapping from ID of products to their integer index.\n",
    "products_id_to_idx = dict(\n",
    "    (p_id, idx) for idx, p_id in enumerate(products_data_df['id'])\n",
    ")"
   ]
  },
  {
   "cell_type": "code",
   "execution_count": 10,
   "metadata": {},
   "outputs": [
    {
     "name": "stderr",
     "output_type": "stream",
     "text": [
      "Warning : `load_model` does not return WordVectorModel or SupervisedModel any more, but a `FastText` object which is very similar.\n"
     ]
    }
   ],
   "source": [
    "ft_model = fasttext.load_model('/Users/madadi/Projects/models/cc.fa.300.bin')"
   ]
  },
  {
   "cell_type": "code",
   "execution_count": 11,
   "metadata": {},
   "outputs": [
    {
     "name": "stderr",
     "output_type": "stream",
     "text": [
      "100%|██████████| 23140/23140 [00:01<00:00, 21830.56it/s]\n",
      "100%|██████████| 10000/10000 [00:00<00:00, 42923.98it/s]\n",
      "100%|██████████| 3612277/3612277 [02:10<00:00, 27633.05it/s]\n"
     ]
    }
   ],
   "source": [
    "# test = test_offline_queries_df['raw_query_normalized'].apply(ft_model.get_sentence_vector)\n",
    "queries_test_projected = np.array([ft_model.get_sentence_vector(x) for x in tqdm(test_offline_queries_df['raw_query_normalized'].values)])\n",
    "queries_train_projected = np.array([ft_model.get_sentence_vector(x) for x in tqdm(aggregated_searches_df['raw_query_normalized'].values)])\n",
    "products_projected = np.array([ft_model.get_sentence_vector(x) for x in tqdm(products_data_df['title_normalized'].values)])"
   ]
  },
  {
   "cell_type": "code",
   "execution_count": null,
   "metadata": {},
   "outputs": [],
   "source": []
  }
 ],
 "metadata": {
  "kernelspec": {
   "display_name": "tensorflow",
   "language": "python",
   "name": "python3"
  },
  "language_info": {
   "codemirror_mode": {
    "name": "ipython",
    "version": 3
   },
   "file_extension": ".py",
   "mimetype": "text/x-python",
   "name": "python",
   "nbconvert_exporter": "python",
   "pygments_lexer": "ipython3",
   "version": "3.9.9"
  },
  "orig_nbformat": 4,
  "vscode": {
   "interpreter": {
    "hash": "921c1c4932ebc6534d21dcf2780023961ea40e3e28695ae20f3dbb7777514cf0"
   }
  }
 },
 "nbformat": 4,
 "nbformat_minor": 2
}
