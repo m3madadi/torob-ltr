{
 "cells": [
  {
   "cell_type": "code",
   "execution_count": 1,
   "metadata": {},
   "outputs": [],
   "source": [
    "# Reset environment due to memory constraints.\n",
    "%reset -f"
   ]
  },
  {
   "cell_type": "code",
   "execution_count": 2,
   "metadata": {},
   "outputs": [],
   "source": [
    "import os\n",
    "import json\n",
    "import gc\n",
    "import pickle\n",
    "\n",
    "from tqdm import tqdm\n",
    "import numpy as np\n",
    "import pandas as pd\n",
    "from sklearn.feature_extraction.text import TfidfVectorizer\n",
    "import fasttext"
   ]
  },
  {
   "cell_type": "code",
   "execution_count": 3,
   "metadata": {},
   "outputs": [],
   "source": [
    "def read_json_lines(path, n_lines=None):\n",
    "    \"\"\"Creates a generator which reads and returns lines of\n",
    "    a json lines file, one line at a time, each as a dictionary.\n",
    "    \n",
    "    This could be used as a memory-efficient alternative of `pandas.read_json`\n",
    "    for reading a json lines file.\n",
    "    \"\"\"\n",
    "    with open(path, 'r') as f:\n",
    "        for i, line in enumerate(f):\n",
    "            if n_lines == i:\n",
    "                break\n",
    "            yield json.loads(line)"
   ]
  },
  {
   "cell_type": "code",
   "execution_count": 4,
   "metadata": {},
   "outputs": [],
   "source": [
    "class JSONLinesWriter:\n",
    "    \"\"\"\n",
    "    Helper class to write list of dictionaries into a file in json lines\n",
    "    format, i.e. one json record per line.\n",
    "    \"\"\"\n",
    "\n",
    "    def __init__(self, file_path):\n",
    "        self.fd = None\n",
    "        self.file_path = file_path\n",
    "        self.delimiter = \"\\n\"\n",
    "\n",
    "    def open(self):\n",
    "        self.fd = open(self.file_path, \"w\")\n",
    "        self.first_record_written = False\n",
    "        return self\n",
    "\n",
    "    def close(self):\n",
    "        self.fd.close()\n",
    "        self.fd = None\n",
    "\n",
    "    def write_record(self, obj):\n",
    "        if self.first_record_written:\n",
    "            self.fd.write(self.delimiter)\n",
    "        self.fd.write(json.dumps(obj))\n",
    "        self.first_record_written = True\n",
    "\n",
    "    def __enter__(self):\n",
    "        return self.open()\n",
    "\n",
    "    def __exit__(self, type, value, traceback):\n",
    "        self.close()"
   ]
  },
  {
   "cell_type": "code",
   "execution_count": 5,
   "metadata": {},
   "outputs": [],
   "source": [
    "output_dir = os.path.join('output_data')\n",
    "volume_dir = ('/mnt/h/torob_data/')\n",
    "\n",
    "aggregated_search_data_path = os.path.join(output_dir, 'aggregated_search_data.jsonl')\n",
    "preprocessed_products_path = os.path.join(output_dir, 'preprocessed_products.jsonl')\n",
    "preprocessed_test_queries_path = os.path.join(output_dir, 'preprocessed_test_queries.jsonl')\n",
    "\n",
    "train_dat_file_path = os.path.join(volume_dir, 'train.dat')\n",
    "\n",
    "random_projection_mat_path = os.path.join(output_dir, 'random_projection_mat.npy')\n",
    "product_features_path = os.path.join(output_dir, 'product_features.npy')\n",
    "queries_train_features_path = os.path.join(output_dir, 'queries_train_features.npy')\n",
    "queries_test_features_path = os.path.join(output_dir, 'queries_test_features.npy')\n",
    "products_id_to_idx_path = os.path.join(output_dir, 'products_id_to_idx.pkl')"
   ]
  },
  {
   "cell_type": "code",
   "execution_count": 6,
   "metadata": {},
   "outputs": [],
   "source": [
    "# Number of tokens in the vocabulary of TF-IDF.\n",
    "VOCAB_SIZE = 4096\n",
    "# Embedding dimension used for random projection of TF-IDF vectors.\n",
    "EMBEDDING_DIM = 256\n",
    "# Number of training samples to use (set to None to use all samples).\n",
    "NUM_TRAIN_SAMPLES = 10_000"
   ]
  },
  {
   "cell_type": "code",
   "execution_count": 7,
   "metadata": {},
   "outputs": [],
   "source": [
    "# Load aggregated search data which will be used as training data.\n",
    "aggregated_searches_df = pd.DataFrame(read_json_lines(aggregated_search_data_path, n_lines=NUM_TRAIN_SAMPLES))"
   ]
  },
  {
   "cell_type": "code",
   "execution_count": 8,
   "metadata": {},
   "outputs": [],
   "source": [
    "# Load preprocessed product data.\n",
    "products_data_df = pd.DataFrame(read_json_lines(preprocessed_products_path))"
   ]
  },
  {
   "cell_type": "code",
   "execution_count": 9,
   "metadata": {},
   "outputs": [],
   "source": [
    "# Load preprocessed test queries.\n",
    "test_offline_queries_df = pd.DataFrame(read_json_lines(preprocessed_test_queries_path))"
   ]
  },
  {
   "cell_type": "code",
   "execution_count": 10,
   "metadata": {},
   "outputs": [],
   "source": [
    "# Create a mapping from ID of products to their integer index.\n",
    "products_id_to_idx = dict((p_id, idx) for idx, p_id in enumerate(products_data_df['id']))"
   ]
  },
  {
   "cell_type": "code",
   "execution_count": null,
   "metadata": {},
   "outputs": [
    {
     "name": "stderr",
     "output_type": "stream",
     "text": [
      "Warning : `load_model` does not return WordVectorModel or SupervisedModel any more, but a `FastText` object which is very similar.\n"
     ]
    },
    {
     "ename": "ValueError",
     "evalue": "../models/cc.fa.300.bin cannot be opened for loading!",
     "output_type": "error",
     "traceback": [
      "\u001b[0;31m---------------------------------------------------------------------------\u001b[0m",
      "\u001b[0;31mValueError\u001b[0m                                Traceback (most recent call last)",
      "Cell \u001b[0;32mIn[19], line 1\u001b[0m\n\u001b[0;32m----> 1\u001b[0m ft_model \u001b[39m=\u001b[39m fasttext\u001b[39m.\u001b[39;49mload_model(\u001b[39m'\u001b[39;49m\u001b[39m../models/cc.fa.300.bin\u001b[39;49m\u001b[39m'\u001b[39;49m)\n",
      "File \u001b[0;32m/Library/Frameworks/Python.framework/Versions/3.11/lib/python3.11/site-packages/fasttext/FastText.py:441\u001b[0m, in \u001b[0;36mload_model\u001b[0;34m(path)\u001b[0m\n\u001b[1;32m    439\u001b[0m \u001b[39m\u001b[39m\u001b[39m\"\"\"Load a model given a filepath and return a model object.\"\"\"\u001b[39;00m\n\u001b[1;32m    440\u001b[0m eprint(\u001b[39m\"\u001b[39m\u001b[39mWarning : `load_model` does not return WordVectorModel or SupervisedModel any more, but a `FastText` object which is very similar.\u001b[39m\u001b[39m\"\u001b[39m)\n\u001b[0;32m--> 441\u001b[0m \u001b[39mreturn\u001b[39;00m _FastText(model_path\u001b[39m=\u001b[39;49mpath)\n",
      "File \u001b[0;32m/Library/Frameworks/Python.framework/Versions/3.11/lib/python3.11/site-packages/fasttext/FastText.py:98\u001b[0m, in \u001b[0;36m_FastText.__init__\u001b[0;34m(self, model_path, args)\u001b[0m\n\u001b[1;32m     96\u001b[0m \u001b[39mself\u001b[39m\u001b[39m.\u001b[39mf \u001b[39m=\u001b[39m fasttext\u001b[39m.\u001b[39mfasttext()\n\u001b[1;32m     97\u001b[0m \u001b[39mif\u001b[39;00m model_path \u001b[39mis\u001b[39;00m \u001b[39mnot\u001b[39;00m \u001b[39mNone\u001b[39;00m:\n\u001b[0;32m---> 98\u001b[0m     \u001b[39mself\u001b[39;49m\u001b[39m.\u001b[39;49mf\u001b[39m.\u001b[39;49mloadModel(model_path)\n\u001b[1;32m     99\u001b[0m \u001b[39mself\u001b[39m\u001b[39m.\u001b[39m_words \u001b[39m=\u001b[39m \u001b[39mNone\u001b[39;00m\n\u001b[1;32m    100\u001b[0m \u001b[39mself\u001b[39m\u001b[39m.\u001b[39m_labels \u001b[39m=\u001b[39m \u001b[39mNone\u001b[39;00m\n",
      "\u001b[0;31mValueError\u001b[0m: ../models/cc.fa.300.bin cannot be opened for loading!"
     ]
    }
   ],
   "source": [
    "ft_model = fasttext.load_model('../models/cc.fa.300.bin')"
   ]
  },
  {
   "cell_type": "code",
   "execution_count": null,
   "metadata": {},
   "outputs": [
    {
     "name": "stderr",
     "output_type": "stream",
     "text": [
      "  0%|          | 0/23140 [00:00<?, ?it/s]"
     ]
    },
    {
     "ename": "NameError",
     "evalue": "name 'ft_model' is not defined",
     "output_type": "error",
     "traceback": [
      "\u001b[0;31m---------------------------------------------------------------------------\u001b[0m",
      "\u001b[0;31mNameError\u001b[0m                                 Traceback (most recent call last)",
      "Cell \u001b[0;32mIn[20], line 2\u001b[0m\n\u001b[1;32m      1\u001b[0m \u001b[39m# test = test_offline_queries_df['raw_query_normalized'].apply(ft_model.get_sentence_vector)\u001b[39;00m\n\u001b[0;32m----> 2\u001b[0m queries_test_projected \u001b[39m=\u001b[39m np\u001b[39m.\u001b[39marray([ft_model\u001b[39m.\u001b[39;49mget_sentence_vector(x) \u001b[39mfor\u001b[39;49;00m x \u001b[39min\u001b[39;49;00m tqdm(test_offline_queries_df[\u001b[39m'\u001b[39;49m\u001b[39mraw_query_normalized\u001b[39;49m\u001b[39m'\u001b[39;49m]\u001b[39m.\u001b[39;49mvalues)])\n\u001b[1;32m      3\u001b[0m queries_train_projected \u001b[39m=\u001b[39m np\u001b[39m.\u001b[39marray([ft_model\u001b[39m.\u001b[39mget_sentence_vector(x) \u001b[39mfor\u001b[39;00m x \u001b[39min\u001b[39;00m tqdm(aggregated_searches_df[\u001b[39m'\u001b[39m\u001b[39mraw_query_normalized\u001b[39m\u001b[39m'\u001b[39m]\u001b[39m.\u001b[39mvalues)])\n\u001b[1;32m      4\u001b[0m products_projected \u001b[39m=\u001b[39m np\u001b[39m.\u001b[39marray([ft_model\u001b[39m.\u001b[39mget_sentence_vector(x) \u001b[39mfor\u001b[39;00m x \u001b[39min\u001b[39;00m tqdm(products_data_df[\u001b[39m'\u001b[39m\u001b[39mtitle_normalized\u001b[39m\u001b[39m'\u001b[39m]\u001b[39m.\u001b[39mvalues)])\n",
      "Cell \u001b[0;32mIn[20], line 2\u001b[0m, in \u001b[0;36m<listcomp>\u001b[0;34m(.0)\u001b[0m\n\u001b[1;32m      1\u001b[0m \u001b[39m# test = test_offline_queries_df['raw_query_normalized'].apply(ft_model.get_sentence_vector)\u001b[39;00m\n\u001b[0;32m----> 2\u001b[0m queries_test_projected \u001b[39m=\u001b[39m np\u001b[39m.\u001b[39marray([ft_model\u001b[39m.\u001b[39mget_sentence_vector(x) \u001b[39mfor\u001b[39;00m x \u001b[39min\u001b[39;00m tqdm(test_offline_queries_df[\u001b[39m'\u001b[39m\u001b[39mraw_query_normalized\u001b[39m\u001b[39m'\u001b[39m]\u001b[39m.\u001b[39mvalues)])\n\u001b[1;32m      3\u001b[0m queries_train_projected \u001b[39m=\u001b[39m np\u001b[39m.\u001b[39marray([ft_model\u001b[39m.\u001b[39mget_sentence_vector(x) \u001b[39mfor\u001b[39;00m x \u001b[39min\u001b[39;00m tqdm(aggregated_searches_df[\u001b[39m'\u001b[39m\u001b[39mraw_query_normalized\u001b[39m\u001b[39m'\u001b[39m]\u001b[39m.\u001b[39mvalues)])\n\u001b[1;32m      4\u001b[0m products_projected \u001b[39m=\u001b[39m np\u001b[39m.\u001b[39marray([ft_model\u001b[39m.\u001b[39mget_sentence_vector(x) \u001b[39mfor\u001b[39;00m x \u001b[39min\u001b[39;00m tqdm(products_data_df[\u001b[39m'\u001b[39m\u001b[39mtitle_normalized\u001b[39m\u001b[39m'\u001b[39m]\u001b[39m.\u001b[39mvalues)])\n",
      "\u001b[0;31mNameError\u001b[0m: name 'ft_model' is not defined"
     ]
    }
   ],
   "source": [
    "# test = test_offline_queries_df['raw_query_normalized'].apply(ft_model.get_sentence_vector)\n",
    "queries_test_projected = np.array([ft_model.get_sentence_vector(x) for x in tqdm(test_offline_queries_df['raw_query_normalized'].values)])\n",
    "queries_train_projected = np.array([ft_model.get_sentence_vector(x) for x in tqdm(aggregated_searches_df['raw_query_normalized'].values)])\n",
    "products_projected = np.array([ft_model.get_sentence_vector(x) for x in tqdm(products_data_df['title_normalized'].values)])"
   ]
  },
  {
   "cell_type": "code",
   "execution_count": null,
   "metadata": {},
   "outputs": [
    {
     "ename": "NameError",
     "evalue": "name 'ft_model' is not defined",
     "output_type": "error",
     "traceback": [
      "\u001b[0;31m---------------------------------------------------------------------------\u001b[0m",
      "\u001b[0;31mNameError\u001b[0m                                 Traceback (most recent call last)",
      "Cell \u001b[0;32mIn[21], line 1\u001b[0m\n\u001b[0;32m----> 1\u001b[0m \u001b[39mdel\u001b[39;00m ft_model\n\u001b[1;32m      2\u001b[0m gc\u001b[39m.\u001b[39mcollect();\n",
      "\u001b[0;31mNameError\u001b[0m: name 'ft_model' is not defined"
     ]
    }
   ],
   "source": [
    "del ft_model\n",
    "gc.collect();"
   ]
  },
  {
   "cell_type": "code",
   "execution_count": null,
   "metadata": {},
   "outputs": [],
   "source": []
  },
  {
   "cell_type": "code",
   "execution_count": null,
   "metadata": {},
   "outputs": [],
   "source": [
    "def create_dat_file(\n",
    "    dat_file_path,\n",
    "    agg_searches_df,\n",
    "    query_features,\n",
    "    product_features,\n",
    "    n_candidates=None,\n",
    "):\n",
    "    \"\"\"\n",
    "    Create a `dat` file which is the training data of LambdaMart model.\n",
    "\n",
    "    The file format of the training and test files is the same as for SVMlight,\n",
    "    with the exception that the lines in the input files have to be sorted by increasing qid.\n",
    "    The first lines may contain comments and are ignored if they start with #.\n",
    "    Each of the following lines represents one training example and is of the following format:\n",
    "\n",
    "    <line> .=. <target> qid:<qid> <feature>:<value> <feature>:<value> ... <feature>:<value> # <info>\n",
    "    <target> .=. <float>\n",
    "    <qid> .=. <positive integer>\n",
    "    <feature> .=. <positive integer>\n",
    "    <value> .=. <float>\n",
    "    <info> .=. <string>\n",
    "\n",
    "    The target value and each of the feature/value pairs are separated by a space character.\n",
    "    Feature/value pairs MUST be ordered by increasing feature number.\n",
    "    Features with value zero can be skipped.\n",
    "    The target value defines the order of the examples for each query.\n",
    "    Implicitly, the target values are used to generated pairwise preference constraints as described in [Joachims, 2002c].\n",
    "    A preference constraint is included for all pairs of examples in the example_file, for which the target value differs.\n",
    "    The special feature \"qid\" can be used to restrict the generation of constraints.\n",
    "    Two examples are considered for a pairwise preference constraint only if the value of \"qid\" is the same.\n",
    "\n",
    "    For example, given the example_file\n",
    "\n",
    "    3 qid:1 1:1 2:1 3:0 4:0.2 5:0 # 1A\n",
    "    2 qid:1 1:0 2:0 3:1 4:0.1 5:1 # 1B\n",
    "    1 qid:1 1:0 2:1 3:0 4:0.4 5:0 # 1C\n",
    "    1 qid:1 1:0 2:0 3:1 4:0.3 5:0 # 1D\n",
    "    1 qid:2 1:0 2:0 3:1 4:0.2 5:0 # 2A\n",
    "    2 qid:2 1:1 2:0 3:1 4:0.4 5:0 # 2B\n",
    "    1 qid:2 1:0 2:0 3:1 4:0.1 5:0 # 2C\n",
    "    1 qid:2 1:0 2:0 3:1 4:0.2 5:0 # 2D\n",
    "    2 qid:3 1:0 2:0 3:1 4:0.1 5:1 # 3A\n",
    "    3 qid:3 1:1 2:1 3:0 4:0.3 5:0 # 3B\n",
    "    4 qid:3 1:1 2:0 3:0 4:0.4 5:1 # 3C\n",
    "    1 qid:3 1:0 2:1 3:1 4:0.5 5:0 # 3D\n",
    "\n",
    "    the following set of pairwise constraints is generated (examples are referred to by the info-string after the # character):\n",
    "\n",
    "    1A>1B, 1A>1C, 1A>1D, 1B>1C, 1B>1D, 2B>2A, 2B>2C, 2B>2D, 3C>3A, 3C>3B, 3C>3D, 3B>3A, 3B>3D, 3A>3D\n",
    "\n",
    "    More information:\n",
    "     - https://xgboost.readthedocs.io/en/latest/tutorials/input_format.html#embedding-additional-information-inside-libsvm-file\n",
    "     - https://www.cs.cornell.edu/people/tj/svm_light/svm_rank.html\n",
    "    \"\"\"\n",
    "    with open(dat_file_path, \"w\") as file:\n",
    "        for qid, agg_search in tqdm(enumerate(agg_searches_df.itertuples(index=False))):\n",
    "            if n_candidates is None:\n",
    "                limit = len(agg_search.results)\n",
    "            else:\n",
    "                limit = min(n_candidates, len(agg_search.results))\n",
    "            clicks = dict(zip(agg_search.clicks, agg_search.clicks_count))\n",
    "\n",
    "            for candidate_product_id in agg_search.results[:limit]:\n",
    "                if candidate_product_id is None:\n",
    "                    continue\n",
    "                candidate_score = clicks.get(candidate_product_id, 0)\n",
    "                candidate_score = np.log2(candidate_score + 1)\n",
    "\n",
    "                p_idx = products_id_to_idx[candidate_product_id]\n",
    "                features = np.concatenate((product_features[p_idx], query_features[qid]))\n",
    "                features = np.around(features, 3)\n",
    "\n",
    "                file.write(\n",
    "                    f\"{candidate_score} qid:{qid} \"\n",
    "                    + \" \".join([f\"{i}:{s}\" for i, s in enumerate(features)])\n",
    "                    + \"\\n\"\n",
    "                )"
   ]
  },
  {
   "cell_type": "code",
   "execution_count": null,
   "metadata": {},
   "outputs": [
    {
     "ename": "NameError",
     "evalue": "name 'queries_train_projected' is not defined",
     "output_type": "error",
     "traceback": [
      "\u001b[0;31m---------------------------------------------------------------------------\u001b[0m",
      "\u001b[0;31mNameError\u001b[0m                                 Traceback (most recent call last)",
      "Cell \u001b[0;32mIn[23], line 4\u001b[0m\n\u001b[1;32m      1\u001b[0m create_dat_file(\n\u001b[1;32m      2\u001b[0m     train_dat_file_path,\n\u001b[1;32m      3\u001b[0m     aggregated_searches_df,\n\u001b[0;32m----> 4\u001b[0m     queries_train_projected,\n\u001b[1;32m      5\u001b[0m     products_projected,\n\u001b[1;32m      6\u001b[0m     n_candidates\u001b[39m=\u001b[39m\u001b[39m200\u001b[39m,\n\u001b[1;32m      7\u001b[0m )\n",
      "\u001b[0;31mNameError\u001b[0m: name 'queries_train_projected' is not defined"
     ]
    }
   ],
   "source": [
    "create_dat_file(\n",
    "    train_dat_file_path,\n",
    "    aggregated_searches_df,\n",
    "    queries_train_projected,\n",
    "    products_projected,\n",
    "    n_candidates=200,\n",
    ")"
   ]
  },
  {
   "cell_type": "code",
   "execution_count": 11,
   "metadata": {},
   "outputs": [],
   "source": [
    "def clicked_results(output_path) :\n",
    "    record = {\n",
    "        'id' : [],\n",
    "        'clicks' : []\n",
    "    }\n",
    "    print('Writing clicked results into file...')\n",
    "    with JSONLinesWriter(output_path) as clicked_result_file:\n",
    "        for index, click_result in tqdm(enumerate(aggregated_searches_df.itertuples())):\n",
    "            for click_id in click_result.clicks:\n",
    "                if click_id in record['id'] :\n",
    "                    record['clicks'][record['id'].index(click_id)] += click_result.clicks_count[click_result.clicks.index(click_id)]\n",
    "                else :\n",
    "                    record['id'].append(click_id)\n",
    "                    record['clicks'].append(click_result.clicks_count[click_result.clicks.index(click_id)])\n",
    "        clicked_result_file.write_record(record)\n"
   ]
  },
  {
   "cell_type": "code",
   "execution_count": 15,
   "metadata": {},
   "outputs": [],
   "source": [
    "def view_results(output_path) :\n",
    "    record = {\n",
    "        'id' : [],\n",
    "        'view' : []\n",
    "    }\n",
    "    print('Writing viewed results into file...')\n",
    "    with JSONLinesWriter(output_path) as clicked_result_file:\n",
    "        for index, results in tqdm(enumerate(aggregated_searches_df.itertuples())):\n",
    "            for result_id in results.results:\n",
    "                if result_id in record['id'] :\n",
    "                    record['view'][record['id'].index(result_id)] += results.results_count[results.results.index(result_id)]\n",
    "                else :\n",
    "                    record['id'].append(result_id)\n",
    "                    record['view'].append(results.results_count[results.results.index(result_id)])\n",
    "        clicked_result_file.write_record(record)"
   ]
  },
  {
   "cell_type": "code",
   "execution_count": 16,
   "metadata": {},
   "outputs": [
    {
     "name": "stdout",
     "output_type": "stream",
     "text": [
      "Writing viewed results into file...\n"
     ]
    },
    {
     "name": "stderr",
     "output_type": "stream",
     "text": [
      "63it [00:08,  7.27it/s]\n"
     ]
    },
    {
     "ename": "KeyboardInterrupt",
     "evalue": "",
     "output_type": "error",
     "traceback": [
      "\u001b[0;31m---------------------------------------------------------------------------\u001b[0m",
      "\u001b[0;31mKeyboardInterrupt\u001b[0m                         Traceback (most recent call last)",
      "Cell \u001b[0;32mIn[16], line 2\u001b[0m\n\u001b[1;32m      1\u001b[0m \u001b[39m# clicked_results('output_data/clicked_results.jsonl')\u001b[39;00m\n\u001b[0;32m----> 2\u001b[0m view_results(\u001b[39m'\u001b[39;49m\u001b[39moutput_data/viewed_results.jsonl\u001b[39;49m\u001b[39m'\u001b[39;49m)\n",
      "Cell \u001b[0;32mIn[15], line 14\u001b[0m, in \u001b[0;36mview_results\u001b[0;34m(output_path)\u001b[0m\n\u001b[1;32m     12\u001b[0m         \u001b[39melse\u001b[39;00m :\n\u001b[1;32m     13\u001b[0m             record[\u001b[39m'\u001b[39m\u001b[39mid\u001b[39m\u001b[39m'\u001b[39m]\u001b[39m.\u001b[39mappend(result_id)\n\u001b[0;32m---> 14\u001b[0m             record[\u001b[39m'\u001b[39m\u001b[39mview\u001b[39m\u001b[39m'\u001b[39m]\u001b[39m.\u001b[39mappend(results\u001b[39m.\u001b[39mresults_count[results\u001b[39m.\u001b[39mresults\u001b[39m.\u001b[39mindex(result_id)])\n\u001b[1;32m     15\u001b[0m clicked_result_file\u001b[39m.\u001b[39mwrite_record(record)\n",
      "\u001b[0;31mKeyboardInterrupt\u001b[0m: "
     ]
    }
   ],
   "source": [
    "clicked_results('output_data/clicked_results.jsonl')\n",
    "view_results('output_data/viewed_results.jsonl')"
   ]
  }
 ],
 "metadata": {
  "kernelspec": {
   "display_name": "Python 3",
   "language": "python",
   "name": "python3"
  },
  "language_info": {
   "codemirror_mode": {
    "name": "ipython",
    "version": 3
   },
   "file_extension": ".py",
   "mimetype": "text/x-python",
   "name": "python",
   "nbconvert_exporter": "python",
   "pygments_lexer": "ipython3",
   "version": "3.11.1"
  },
  "orig_nbformat": 4,
  "vscode": {
   "interpreter": {
    "hash": "aee8b7b246df8f9039afb4144a1f6fd8d2ca17a180786b69acc140d282b71a49"
   }
  }
 },
 "nbformat": 4,
 "nbformat_minor": 2
}
